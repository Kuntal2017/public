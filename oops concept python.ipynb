{
 "cells": [
  {
   "cell_type": "code",
   "execution_count": 18,
   "metadata": {},
   "outputs": [],
   "source": [
    "#object oriented programming in python"
   ]
  },
  {
   "cell_type": "code",
   "execution_count": 19,
   "metadata": {},
   "outputs": [
    {
     "name": "stdout",
     "output_type": "stream",
     "text": [
      "<class '__main__.Dog'>\n"
     ]
    }
   ],
   "source": [
    "class Dog:\n",
    "    def bark(self): #self is similar to this in c programming\n",
    "        print('bark')\n",
    "\n",
    "        \n",
    "d = Dog() # d is instance of class\n",
    "print(type(d))"
   ]
  },
  {
   "cell_type": "code",
   "execution_count": 20,
   "metadata": {},
   "outputs": [
    {
     "name": "stdout",
     "output_type": "stream",
     "text": [
      "bark\n"
     ]
    }
   ],
   "source": [
    "d.bark()"
   ]
  },
  {
   "cell_type": "code",
   "execution_count": 21,
   "metadata": {},
   "outputs": [
    {
     "name": "stdout",
     "output_type": "stream",
     "text": [
      "11\n"
     ]
    }
   ],
   "source": [
    "class Dog:\n",
    "    def bark(self): #self is similar to this in c programming\n",
    "        print('bark')\n",
    "    def add_one(self,x):\n",
    "        return x + 1\n",
    "\n",
    "        \n",
    "d = Dog() # d is instance of class\n",
    "\n",
    "print(d.add_one(10))"
   ]
  },
  {
   "cell_type": "code",
   "execution_count": 5,
   "metadata": {},
   "outputs": [
    {
     "name": "stdout",
     "output_type": "stream",
     "text": [
      "tom\n",
      "tom\n"
     ]
    }
   ],
   "source": [
    "class Dog:\n",
    "    # __init__ is special method which help to intanciate the object as \n",
    "    #it is created (it can be understood as similar to constructer)\n",
    "    def __init__(self,name):\n",
    "        self.name = name\n",
    "        print(name)\n",
    "    def bark(self): #self is similar to this in c programming\n",
    "        print('bark')\n",
    "    def add_one(self,x):\n",
    "        return x + 1\n",
    "\n",
    "        \n",
    "d = Dog(\"tom\") # d is instance of class\n",
    "#init method is called directely\n",
    "#here were are not using d.Method_Name(arguments)\n",
    "\n",
    "#now we can also print dog name\n",
    "print(d.name)"
   ]
  },
  {
   "cell_type": "code",
   "execution_count": 7,
   "metadata": {},
   "outputs": [
    {
     "name": "stdout",
     "output_type": "stream",
     "text": [
      "tom\n"
     ]
    }
   ],
   "source": [
    "class Dog:\n",
    "    def __init__(self,name):\n",
    "        self.name = name\n",
    "    def getname(self):\n",
    "        return self.name\n",
    "    def bark(self):\n",
    "        print('bark')\n",
    "    def add_one(self,x):\n",
    "        return x + 1\n",
    "\n",
    "        \n",
    "d = Dog(\"tom\") \n",
    "print(d.getname())"
   ]
  },
  {
   "cell_type": "code",
   "execution_count": 16,
   "metadata": {},
   "outputs": [
    {
     "name": "stdout",
     "output_type": "stream",
     "text": [
      "My name is Tom and age is 20\n",
      "My name is killi and age is 25\n",
      "My name is mill and age is 10\n",
      "#######\n",
      "I dont speak\n",
      "Meaw\n",
      "bark\n",
      "-----------\n",
      "I dont speak\n"
     ]
    }
   ],
   "source": [
    "#inheritance example\n",
    "\n",
    "class Pet:\n",
    "    def __init__(self,name,age):\n",
    "        self.name = name\n",
    "        self.age=age\n",
    "    def show(self):\n",
    "        print(f\"My name is { self.name } and age is { self.age}\")\n",
    "    def speak(self):\n",
    "        print(\"I dont speak\")\n",
    "        \n",
    "        # fstring is used \n",
    "#inherting super class(Pet) in base class (Cat)  \n",
    "class Cat(Pet):\n",
    "    def speak(self):\n",
    "        print(\"Meaw\")\n",
    "        \n",
    "#inherting super class(Pet) in base class (Dog)         \n",
    "class Dog(Pet):\n",
    "    def speak(self):\n",
    "        print(\"bark\")\n",
    "        \n",
    "p = Pet(\"Tom\",20)\n",
    "p.show()\n",
    "c = Cat(\"killi\",25)\n",
    "c.show()\n",
    "d = Dog(\"mill\",10)\n",
    "d.show()\n",
    "\n",
    "print(\"#######\")\n",
    "p.speak()\n",
    "c.speak() #it will override superclass method speak of class pet \n",
    "d.speak()#it will also overide class pet method speak\n",
    "print(\"-----------\")\n",
    "class Fish(Pet):\n",
    "    pass\n",
    "\n",
    "f = Fish(\"bubbles\",20)\n",
    "f.speak()"
   ]
  },
  {
   "cell_type": "code",
   "execution_count": null,
   "metadata": {},
   "outputs": [],
   "source": []
  }
 ],
 "metadata": {
  "kernelspec": {
   "display_name": "Python 3",
   "language": "python",
   "name": "python3"
  },
  "language_info": {
   "codemirror_mode": {
    "name": "ipython",
    "version": 3
   },
   "file_extension": ".py",
   "mimetype": "text/x-python",
   "name": "python",
   "nbconvert_exporter": "python",
   "pygments_lexer": "ipython3",
   "version": "3.7.4"
  }
 },
 "nbformat": 4,
 "nbformat_minor": 2
}
